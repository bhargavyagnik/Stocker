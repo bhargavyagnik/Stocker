{
 "cells": [
  {
   "cell_type": "code",
   "execution_count": 2,
   "metadata": {},
   "outputs": [],
   "source": [
    "import pandas as pd\n",
    "import numpy as np"
   ]
  },
  {
   "cell_type": "code",
   "execution_count": 3,
   "metadata": {},
   "outputs": [],
   "source": [
    "df=pd.read_csv('500325.csv')"
   ]
  },
  {
   "cell_type": "code",
   "execution_count": 5,
   "metadata": {},
   "outputs": [
    {
     "data": {
      "text/html": [
       "<div>\n",
       "<style scoped>\n",
       "    .dataframe tbody tr th:only-of-type {\n",
       "        vertical-align: middle;\n",
       "    }\n",
       "\n",
       "    .dataframe tbody tr th {\n",
       "        vertical-align: top;\n",
       "    }\n",
       "\n",
       "    .dataframe thead th {\n",
       "        text-align: right;\n",
       "    }\n",
       "</style>\n",
       "<table border=\"1\" class=\"dataframe\">\n",
       "  <thead>\n",
       "    <tr style=\"text-align: right;\">\n",
       "      <th></th>\n",
       "      <th>Date</th>\n",
       "      <th>Open Price</th>\n",
       "      <th>High Price</th>\n",
       "      <th>Low Price</th>\n",
       "      <th>Close Price</th>\n",
       "      <th>WAP</th>\n",
       "      <th>No.of Shares</th>\n",
       "      <th>No. of Trades</th>\n",
       "      <th>Total Turnover (Rs.)</th>\n",
       "      <th>Deliverable Quantity</th>\n",
       "      <th>% Deli. Qty to Traded Qty</th>\n",
       "      <th>Spread High-Low</th>\n",
       "      <th>Spread Close-Open</th>\n",
       "    </tr>\n",
       "  </thead>\n",
       "  <tbody>\n",
       "    <tr>\n",
       "      <th>0</th>\n",
       "      <td>13-July-2020</td>\n",
       "      <td>1908.5</td>\n",
       "      <td>1947.0</td>\n",
       "      <td>1900.1</td>\n",
       "      <td>1934.30</td>\n",
       "      <td>1927.937985</td>\n",
       "      <td>1572760</td>\n",
       "      <td>57783</td>\n",
       "      <td>3.032184e+09</td>\n",
       "      <td>323731.0</td>\n",
       "      <td>20.58</td>\n",
       "      <td>46.9</td>\n",
       "      <td>25.80</td>\n",
       "    </tr>\n",
       "    <tr>\n",
       "      <th>1</th>\n",
       "      <td>10-July-2020</td>\n",
       "      <td>1829.9</td>\n",
       "      <td>1884.4</td>\n",
       "      <td>1824.6</td>\n",
       "      <td>1878.50</td>\n",
       "      <td>1860.721808</td>\n",
       "      <td>1140279</td>\n",
       "      <td>62940</td>\n",
       "      <td>2.121742e+09</td>\n",
       "      <td>309166.0</td>\n",
       "      <td>27.11</td>\n",
       "      <td>59.8</td>\n",
       "      <td>48.60</td>\n",
       "    </tr>\n",
       "    <tr>\n",
       "      <th>2</th>\n",
       "      <td>9-July-2020</td>\n",
       "      <td>1807.5</td>\n",
       "      <td>1834.4</td>\n",
       "      <td>1787.0</td>\n",
       "      <td>1824.60</td>\n",
       "      <td>1813.963021</td>\n",
       "      <td>705240</td>\n",
       "      <td>24809</td>\n",
       "      <td>1.279279e+09</td>\n",
       "      <td>78673.0</td>\n",
       "      <td>11.16</td>\n",
       "      <td>47.4</td>\n",
       "      <td>17.10</td>\n",
       "    </tr>\n",
       "    <tr>\n",
       "      <th>3</th>\n",
       "      <td>8-July-2020</td>\n",
       "      <td>1826.0</td>\n",
       "      <td>1834.8</td>\n",
       "      <td>1790.1</td>\n",
       "      <td>1797.35</td>\n",
       "      <td>1812.846688</td>\n",
       "      <td>583648</td>\n",
       "      <td>27939</td>\n",
       "      <td>1.058064e+09</td>\n",
       "      <td>150101.0</td>\n",
       "      <td>25.72</td>\n",
       "      <td>44.7</td>\n",
       "      <td>-28.65</td>\n",
       "    </tr>\n",
       "    <tr>\n",
       "      <th>4</th>\n",
       "      <td>7-July-2020</td>\n",
       "      <td>1870.0</td>\n",
       "      <td>1870.0</td>\n",
       "      <td>1806.4</td>\n",
       "      <td>1823.95</td>\n",
       "      <td>1831.450977</td>\n",
       "      <td>717717</td>\n",
       "      <td>31864</td>\n",
       "      <td>1.314464e+09</td>\n",
       "      <td>132118.0</td>\n",
       "      <td>18.41</td>\n",
       "      <td>63.6</td>\n",
       "      <td>-46.05</td>\n",
       "    </tr>\n",
       "  </tbody>\n",
       "</table>\n",
       "</div>"
      ],
      "text/plain": [
       "           Date  Open Price  High Price  Low Price  Close Price          WAP  \\\n",
       "0  13-July-2020      1908.5      1947.0     1900.1      1934.30  1927.937985   \n",
       "1  10-July-2020      1829.9      1884.4     1824.6      1878.50  1860.721808   \n",
       "2   9-July-2020      1807.5      1834.4     1787.0      1824.60  1813.963021   \n",
       "3   8-July-2020      1826.0      1834.8     1790.1      1797.35  1812.846688   \n",
       "4   7-July-2020      1870.0      1870.0     1806.4      1823.95  1831.450977   \n",
       "\n",
       "   No.of Shares  No. of Trades  Total Turnover (Rs.)  Deliverable Quantity  \\\n",
       "0       1572760          57783          3.032184e+09              323731.0   \n",
       "1       1140279          62940          2.121742e+09              309166.0   \n",
       "2        705240          24809          1.279279e+09               78673.0   \n",
       "3        583648          27939          1.058064e+09              150101.0   \n",
       "4        717717          31864          1.314464e+09              132118.0   \n",
       "\n",
       "   % Deli. Qty to Traded Qty  Spread High-Low  Spread Close-Open  \n",
       "0                      20.58             46.9              25.80  \n",
       "1                      27.11             59.8              48.60  \n",
       "2                      11.16             47.4              17.10  \n",
       "3                      25.72             44.7             -28.65  \n",
       "4                      18.41             63.6             -46.05  "
      ]
     },
     "execution_count": 5,
     "metadata": {},
     "output_type": "execute_result"
    }
   ],
   "source": [
    "df.head()"
   ]
  },
  {
   "cell_type": "code",
   "execution_count": 9,
   "metadata": {},
   "outputs": [
    {
     "data": {
      "text/plain": [
       "Index(['Date', 'Open Price', 'High Price', 'Low Price', 'Close Price', 'WAP',\n",
       "       'No.of Shares', 'No. of Trades', 'Total Turnover (Rs.)',\n",
       "       'Deliverable Quantity', '% Deli. Qty to Traded Qty', 'Spread High-Low',\n",
       "       'Spread Close-Open'],\n",
       "      dtype='object')"
      ]
     },
     "execution_count": 9,
     "metadata": {},
     "output_type": "execute_result"
    }
   ],
   "source": [
    "df.columns"
   ]
  },
  {
   "cell_type": "code",
   "execution_count": 12,
   "metadata": {},
   "outputs": [
    {
     "data": {
      "text/plain": [
       "[<matplotlib.lines.Line2D at 0x29012a39400>]"
      ]
     },
     "execution_count": 12,
     "metadata": {},
     "output_type": "execute_result"
    },
    {
     "data": {
      "image/png": "[encoded data removed]",
      "text/plain": [
       "<Figure size 432x288 with 1 Axes>"
      ]
     },
     "metadata": {
      "needs_background": "light"
     },
     "output_type": "display_data"
    }
   ],
   "source": [
    "import matplotlib.pyplot as plt\n",
    "%matplotlib inline\n",
    "plt.plot(df['High Price'])\n"
   ]
  },
  {
   "cell_type": "code",
   "execution_count": 17,
   "metadata": {},
   "outputs": [
    {
     "ename": "FileNotFoundError",
     "evalue": "[Errno 2] No such file or directory: 'google.com'",
     "output_type": "error",
     "traceback": [
      "\u001b[1;31m---------------------------------------------------------------------------\u001b[0m",
      "\u001b[1;31mFileNotFoundError\u001b[0m                         Traceback (most recent call last)",
      "\u001b[1;32m<ipython-input-17-f2906020e58f>\u001b[0m in \u001b[0;36m<module>\u001b[1;34m\u001b[0m\n\u001b[1;32m----> 1\u001b[1;33m \u001b[0mopen\u001b[0m\u001b[1;33m(\u001b[0m\u001b[1;34m\"google.com\"\u001b[0m\u001b[1;33m)\u001b[0m\u001b[1;33m\u001b[0m\u001b[1;33m\u001b[0m\u001b[0m\n\u001b[0m",
      "\u001b[1;31mFileNotFoundError\u001b[0m: [Errno 2] No such file or directory: 'google.com'"
     ]
    }
   ],
   "source": [
    "import "
   ]
  },
  {
   "cell_type": "code",
   "execution_count": null,
   "metadata": {},
   "outputs": [],
   "source": []
  }
 ],
 "metadata": {
  "kernelspec": {
   "display_name": "Python 3",
   "language": "python",
   "name": "python3"
  },
  "language_info": {
   "codemirror_mode": {
    "name": "ipython",
    "version": 3
   },
   "file_extension": ".py",
   "mimetype": "text/x-python",
   "name": "python",
   "nbconvert_exporter": "python",
   "pygments_lexer": "ipython3",
   "version": "3.6.8"
  }
 },
 "nbformat": 4,
 "nbformat_minor": 2
}
